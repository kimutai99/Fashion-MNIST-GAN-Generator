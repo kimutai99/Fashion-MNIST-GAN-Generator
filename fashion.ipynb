{
 "cells": [
  {
   "cell_type": "code",
   "execution_count": 31,
   "id": "2fbdfb51",
   "metadata": {},
   "outputs": [],
   "source": [
    "# Imports\n",
    "import tensorflow as tf\n",
    "import tensorflow_datasets as tfds\n",
    "import numpy as np\n",
    "import os\n",
    "from tensorflow.keras.models import Sequential, Model\n",
    "from tensorflow.keras.layers import Dense, Reshape, Conv2D, Flatten, LeakyReLU, Dropout, UpSampling2D\n",
    "from tensorflow.keras.optimizers import Adam\n",
    "from tensorflow.keras.losses import BinaryCrossentropy\n",
    "from tensorflow.keras.preprocessing.image import array_to_img\n",
    "from tensorflow.keras.callbacks import Callback\n",
    "import matplotlib.pyplot as plt"
   ]
  },
  {
   "cell_type": "code",
   "execution_count": 32,
   "id": "de3778fd",
   "metadata": {},
   "outputs": [],
   "source": [
    "# 1. Load and Prepare the Dataset\n",
    "def load_dataset():\n",
    "    def scale_images(data):\n",
    "        image = data['image']\n",
    "        return tf.cast(image, tf.float32) / 255.0 \n",
    "\n",
    "    ds = tfds.load('fashion_mnist', split='train[:10%]')\n",
    "    ds = ds.map(scale_images)\n",
    "    ds = ds.cache()\n",
    "    ds = ds.shuffle(60000)\n",
    "    ds = ds.batch(128)\n",
    "    ds = ds.prefetch(64)\n",
    "    return ds\n"
   ]
  },
  {
   "cell_type": "code",
   "execution_count": 33,
   "id": "c82202a7",
   "metadata": {},
   "outputs": [],
   "source": [
    "# 2. Build the Generator\n",
    "def build_generator():\n",
    "    model = Sequential()\n",
    "    model.add(Dense(7*7*128, input_dim=128))\n",
    "    model.add(LeakyReLU(0.2))\n",
    "    model.add(Reshape((7, 7, 128)))\n",
    "    model.add(UpSampling2D())\n",
    "    model.add(Conv2D(128, 5, padding='same'))\n",
    "    model.add(LeakyReLU(0.2))\n",
    "    model.add(UpSampling2D())\n",
    "    model.add(Conv2D(128, 5, padding='same'))\n",
    "    model.add(LeakyReLU(0.2))\n",
    "    model.add(Conv2D(128, 4, padding='same'))\n",
    "    model.add(LeakyReLU(0.2))\n",
    "    model.add(Conv2D(128, 4, padding='same'))\n",
    "    model.add(LeakyReLU(0.2))\n",
    "    model.add(Conv2D(1, 4, padding='same', activation='sigmoid'))\n",
    "    return model"
   ]
  },
  {
   "cell_type": "code",
   "execution_count": 34,
   "id": "d6ba3ffb",
   "metadata": {},
   "outputs": [],
   "source": [
    "# 3. Build the Discriminator\n",
    "def build_discriminator():\n",
    "    model = Sequential()\n",
    "    model.add(Conv2D(32, 5, input_shape=(28, 28, 1)))\n",
    "    model.add(LeakyReLU(0.2))\n",
    "    model.add(Dropout(0.4))\n",
    "    model.add(Conv2D(64, 5))\n",
    "    model.add(LeakyReLU(0.2))\n",
    "    model.add(Dropout(0.4))\n",
    "    model.add(Conv2D(128, 5))\n",
    "    model.add(LeakyReLU(0.2))\n",
    "    model.add(Dropout(0.4))\n",
    "    model.add(Conv2D(256, 5))\n",
    "    model.add(LeakyReLU(0.2))\n",
    "    model.add(Dropout(0.4))\n",
    "    model.add(Flatten())\n",
    "    model.add(Dropout(0.4))\n",
    "    model.add(Dense(1, activation='sigmoid'))\n",
    "    return model"
   ]
  },
  {
   "cell_type": "code",
   "execution_count": 35,
   "id": "d32c58f1",
   "metadata": {},
   "outputs": [],
   "source": [
    "# 4. Callback to Monitor Progress\n",
    "class ModelMonitor(Callback):\n",
    "    def __init__(self, generator, num_img=3, latent_dim=128):\n",
    "        self.generator = generator\n",
    "        self.num_img = num_img\n",
    "        self.latent_dim = latent_dim\n",
    "        os.makedirs('images', exist_ok=True)\n",
    "\n",
    "    def on_epoch_end(self, epoch, logs=None):\n",
    "        random_latent_vectors = tf.random.normal((self.num_img, self.latent_dim))\n",
    "        generated_images = self.generator(random_latent_vectors)\n",
    "        generated_images *= 255\n",
    "        generated_images = generated_images.numpy()\n",
    "        for i in range(self.num_img):\n",
    "            img = array_to_img(generated_images[i])\n",
    "            img.save(os.path.join('images', f'generated_img_{epoch}_{i}.png'))"
   ]
  },
  {
   "cell_type": "code",
   "execution_count": 36,
   "id": "da94978d",
   "metadata": {},
   "outputs": [],
   "source": [
    "\n",
    "\n",
    "# 5. GAN Training Model\n",
    "class FashionGAN(Model):\n",
    "    def __init__(self, generator, discriminator):\n",
    "        super().__init__()\n",
    "        self.generator = generator\n",
    "        self.discriminator = discriminator\n",
    "\n",
    "    def compile(self, g_opt, d_opt, g_loss, d_loss):\n",
    "        super().compile()\n",
    "        self.g_opt = g_opt\n",
    "        self.d_opt = d_opt\n",
    "        self.g_loss = g_loss\n",
    "        self.d_loss = d_loss\n",
    "\n",
    "    def train_step(self, batch):\n",
    "        batch_size = tf.shape(batch)[0]\n",
    "        real_images = batch\n",
    "        fake_images = self.generator(tf.random.normal((batch_size, 128)), training=False)\n",
    "\n",
    "        # Discriminator training\n",
    "        with tf.GradientTape() as d_tape:\n",
    "            yhat_real = self.discriminator(real_images, training=True)\n",
    "            yhat_fake = self.discriminator(fake_images, training=True)\n",
    "            yhat_realfake = tf.concat([yhat_real, yhat_fake], axis=0)\n",
    "            y_realfake = tf.concat([\n",
    "                tf.zeros_like(yhat_real),  # Real = 0\n",
    "                tf.ones_like(yhat_fake)    # Fake = 1\n",
    "            ], axis=0)\n",
    "            noise_real = 0.15 * tf.random.uniform(tf.shape(yhat_real))\n",
    "            noise_fake = -0.15 * tf.random.uniform(tf.shape(yhat_fake))\n",
    "            y_realfake += tf.concat([noise_real, noise_fake], axis=0)\n",
    "            total_d_loss = self.d_loss(y_realfake, yhat_realfake)\n",
    "\n",
    "        dgrad = d_tape.gradient(total_d_loss, self.discriminator.trainable_variables)\n",
    "        self.d_opt.apply_gradients(zip(dgrad, self.discriminator.trainable_variables))\n",
    "\n",
    "        # Generator training\n",
    "        with tf.GradientTape() as g_tape:\n",
    "            gen_images = self.generator(tf.random.normal((batch_size, 128)), training=True)\n",
    "            predicted_labels = self.discriminator(gen_images, training=False)\n",
    "            total_g_loss = self.g_loss(tf.zeros_like(predicted_labels), predicted_labels)\n",
    "\n",
    "        ggrad = g_tape.gradient(total_g_loss, self.generator.trainable_variables)\n",
    "        self.g_opt.apply_gradients(zip(ggrad, self.generator.trainable_variables))\n",
    "\n",
    "        return {\"d_loss\": total_d_loss, \"g_loss\": total_g_loss}"
   ]
  },
  {
   "cell_type": "code",
   "execution_count": 37,
   "id": "845871d0",
   "metadata": {},
   "outputs": [],
   "source": [
    "# 6. Train the Model\n",
    "def train():\n",
    "    ds = load_dataset()\n",
    "    generator = build_generator()\n",
    "    discriminator = build_discriminator()\n",
    "    gan = FashionGAN(generator, discriminator)\n",
    "    gan.compile(\n",
    "        g_opt=Adam(1e-4),\n",
    "        d_opt=Adam(1e-5),\n",
    "        g_loss=BinaryCrossentropy(),\n",
    "        d_loss=BinaryCrossentropy()\n",
    "    )\n",
    "    monitor = ModelMonitor(generator, num_img=4)\n",
    "    history = gan.fit(ds, epochs=5, callbacks=[monitor])\n",
    "    return history, generator, discriminator"
   ]
  },
  {
   "cell_type": "code",
   "execution_count": 38,
   "id": "7cbf1b6c",
   "metadata": {},
   "outputs": [
    {
     "name": "stdout",
     "output_type": "stream",
     "text": [
      "Epoch 1/5\n",
      "47/47 [==============================] - 600s 13s/step - d_loss: 0.6872 - g_loss: 0.7224\n",
      "Epoch 2/5\n",
      "47/47 [==============================] - 623s 13s/step - d_loss: 0.5285 - g_loss: 0.6937\n",
      "Epoch 3/5\n",
      "47/47 [==============================] - 610s 13s/step - d_loss: 0.4946 - g_loss: 0.6978\n",
      "Epoch 4/5\n",
      "47/47 [==============================] - 587s 12s/step - d_loss: 0.4919 - g_loss: 0.7048\n",
      "Epoch 5/5\n",
      "47/47 [==============================] - 593s 13s/step - d_loss: 0.4847 - g_loss: 0.7177\n",
      "WARNING:tensorflow:Compiled the loaded model, but the compiled metrics have yet to be built. `model.compile_metrics` will be empty until you train or evaluate the model.\n"
     ]
    },
    {
     "name": "stderr",
     "output_type": "stream",
     "text": [
      "WARNING:tensorflow:Compiled the loaded model, but the compiled metrics have yet to be built. `model.compile_metrics` will be empty until you train or evaluate the model.\n"
     ]
    },
    {
     "name": "stdout",
     "output_type": "stream",
     "text": [
      "WARNING:tensorflow:Compiled the loaded model, but the compiled metrics have yet to be built. `model.compile_metrics` will be empty until you train or evaluate the model.\n"
     ]
    },
    {
     "name": "stderr",
     "output_type": "stream",
     "text": [
      "WARNING:tensorflow:Compiled the loaded model, but the compiled metrics have yet to be built. `model.compile_metrics` will be empty until you train or evaluate the model.\n"
     ]
    }
   ],
   "source": [
    "# Train and save models\n",
    "history, generator, discriminator = train()\n",
    "generator.save('generator.h5')\n",
    "discriminator.save('discriminator.h5')"
   ]
  },
  {
   "cell_type": "code",
   "execution_count": 40,
   "id": "d1980303",
   "metadata": {},
   "outputs": [
    {
     "data": {
      "image/png": "[encoded data removed]",
      "text/plain": [
       "<Figure size 432x288 with 1 Axes>"
      ]
     },
     "metadata": {
      "needs_background": "light"
     },
     "output_type": "display_data"
    }
   ],
   "source": [
    "# Plot Loss\n",
    "plt.plot(history.history['d_loss'], label='Discriminator Loss')\n",
    "plt.plot(history.history['g_loss'], label='Generator Loss')\n",
    "plt.title('GAN Training Loss')\n",
    "plt.legend()\n",
    "plt.savefig(\"loss_plot.png\")\n",
    "plt.show()"
   ]
  },
  {
   "cell_type": "code",
   "execution_count": null,
   "id": "343320e5",
   "metadata": {},
   "outputs": [],
   "source": []
  }
 ],
 "metadata": {
  "kernelspec": {
   "display_name": "learn-env",
   "language": "python",
   "name": "python3"
  },
  "language_info": {
   "codemirror_mode": {
    "name": "ipython",
    "version": 3
   },
   "file_extension": ".py",
   "mimetype": "text/x-python",
   "name": "python",
   "nbconvert_exporter": "python",
   "pygments_lexer": "ipython3",
   "version": "3.8.5"
  }
 },
 "nbformat": 4,
 "nbformat_minor": 5
}
